{
 "cells": [
  {
   "cell_type": "code",
   "execution_count": 1,
   "id": "4b39824a",
   "metadata": {},
   "outputs": [
    {
     "name": "stdout",
     "output_type": "stream",
     "text": [
      "Requirement already satisfied: opencv-python-headless in c:\\users\\dell\\anaconda3\\lib\\site-packages (4.8.1.78)\n",
      "Requirement already satisfied: numpy>=1.21.2 in c:\\users\\dell\\anaconda3\\lib\\site-packages (from opencv-python-headless) (1.24.3)\n"
     ]
    }
   ],
   "source": [
    "!pip install opencv-python-headless"
   ]
  },
  {
   "cell_type": "code",
   "execution_count": 2,
   "id": "2f2769d0",
   "metadata": {},
   "outputs": [
    {
     "name": "stdout",
     "output_type": "stream",
     "text": [
      "Requirement already satisfied: matplotlib in c:\\users\\dell\\anaconda3\\lib\\site-packages (3.7.2)\n",
      "Requirement already satisfied: contourpy>=1.0.1 in c:\\users\\dell\\anaconda3\\lib\\site-packages (from matplotlib) (1.0.5)\n",
      "Requirement already satisfied: cycler>=0.10 in c:\\users\\dell\\anaconda3\\lib\\site-packages (from matplotlib) (0.11.0)\n",
      "Requirement already satisfied: fonttools>=4.22.0 in c:\\users\\dell\\anaconda3\\lib\\site-packages (from matplotlib) (4.25.0)\n",
      "Requirement already satisfied: kiwisolver>=1.0.1 in c:\\users\\dell\\anaconda3\\lib\\site-packages (from matplotlib) (1.4.4)\n",
      "Requirement already satisfied: numpy>=1.20 in c:\\users\\dell\\anaconda3\\lib\\site-packages (from matplotlib) (1.24.3)\n",
      "Requirement already satisfied: packaging>=20.0 in c:\\users\\dell\\anaconda3\\lib\\site-packages (from matplotlib) (23.1)\n",
      "Requirement already satisfied: pillow>=6.2.0 in c:\\users\\dell\\anaconda3\\lib\\site-packages (from matplotlib) (9.4.0)\n",
      "Requirement already satisfied: pyparsing<3.1,>=2.3.1 in c:\\users\\dell\\anaconda3\\lib\\site-packages (from matplotlib) (3.0.9)\n",
      "Requirement already satisfied: python-dateutil>=2.7 in c:\\users\\dell\\anaconda3\\lib\\site-packages (from matplotlib) (2.8.2)\n",
      "Requirement already satisfied: six>=1.5 in c:\\users\\dell\\anaconda3\\lib\\site-packages (from python-dateutil>=2.7->matplotlib) (1.16.0)\n"
     ]
    }
   ],
   "source": [
    "!pip install matplotlib"
   ]
  },
  {
   "cell_type": "code",
   "execution_count": 5,
   "id": "d11f4497",
   "metadata": {},
   "outputs": [
    {
     "name": "stdout",
     "output_type": "stream",
     "text": [
      "Requirement already satisfied: Pillow in c:\\users\\dell\\anaconda3\\lib\\site-packages (9.4.0)\n"
     ]
    }
   ],
   "source": [
    "!pip install Pillow"
   ]
  },
  {
   "cell_type": "code",
   "execution_count": 3,
   "id": "0c6f8bf0",
   "metadata": {},
   "outputs": [],
   "source": [
    "import cv2\n",
    "import skimage\n",
    "import numpy as np\n",
    "from skimage.transform import resize\n",
    "from skimage import io\n",
    "\n",
    "\n",
    "#own library.\n",
    "import retinahelpfunction as rhf"
   ]
  },
  {
   "cell_type": "code",
   "execution_count": 7,
   "id": "a729196c",
   "metadata": {},
   "outputs": [],
   "source": [
    "def luminosity_contrast_normalization(img,blockSize,resizeImg,debugOption = 'on'):\n",
    "\n",
    "    resizedImg  = resize(img, resizeImg , anti_aliasing=True)\n",
    "    rhf.show_on_jupyter(resizedImg,'gray','float')\n",
    "\n",
    "    blockR,blockC = blockSize\n",
    "    imgR, imgC  = resizedImg.shape\n",
    "\n",
    "    meanSub= np.zeros(( int(imgR / blockR), int(imgC/blockC) ))\n",
    "    stdSub = np.zeros((int(imgR / blockR), int(imgC/blockC)))\n",
    "\n",
    "\n",
    "    for i in range(int(imgR / blockR)): # Row\n",
    "        for j in range(int(imgC / blockC)): # Col\n",
    "            topLeftC = blockC * j +1\n",
    "            topLeftR = blockR * i +1\n",
    "            tempH = blockR * (i+1)\n",
    "            tempW = blockC * (j+1)\n",
    "            temp = resizedImg[topLeftR:tempH, topLeftC:tempW]\n",
    "            meanSub[i,j] = np.mean(temp)\n",
    "            stdSub[i,j] = np.std(temp)\n",
    "\n",
    "    meanFull = cv2.resize(meanSub,(2300,1500),interpolation = cv2.INTER_CUBIC)\n",
    "    stdFull = cv2.resize(stdSub,(2300,1500),interpolation = cv2.INTER_CUBIC)\n",
    "\n",
    "    mahDist = np.divide(np.subtract(resizedImg,meanFull) , stdFull)\n",
    "    mahDist = np.abs(mahDist)\n",
    "    mahDist[mahDist < 1] = 1\n",
    "    mahDist[mahDist != 1] = 0\n",
    "\n",
    "    if debugOption == 'on':\n",
    "        rhf.show_on_jupyter(meanFull,'gray','float')\n",
    "        rhf.show_on_jupyter(stdFull,'gray','float')\n",
    "        rhf.show_on_jupyter(mahDist,'gray','float')\n",
    "\n",
    "    meanSub2= np.zeros(( int(imgR / blockR), int(imgC/blockC) ))\n",
    "    stdSub2 = np.zeros((int(imgR / blockR), int(imgC/blockC)))\n",
    "\n",
    "    for i in range(int(imgR / blockR)): # Row\n",
    "        for j in range(int(imgC / blockC)): # Col\n",
    "            topLeftC2 = blockC * j +1\n",
    "            topLeftR2 = blockR * i +1\n",
    "            tempH2 = blockR * (i+1)\n",
    "            tempW2 = blockC * (j+1)\n",
    "            temp2 = resizedImg[topLeftR2:tempH2, topLeftC2:tempW2]\n",
    "            temp3 = np.ndarray.flatten(temp2)\n",
    "            tempDist = mahDist[topLeftR2:tempH2, topLeftC2:tempW2]\n",
    "            tempDist = np.nonzero(np.ravel(tempDist))\n",
    "            meanSub2[i,j] = np.mean(temp3[tempDist])\n",
    "            stdSub2[i,j] = np.std(temp3[tempDist])\n",
    "\n",
    "\n",
    "\n",
    "    meanFull2 = cv2.resize(meanSub2,(2300,1500),interpolation = cv2.INTER_CUBIC)\n",
    "    stdFull2 = cv2.resize(stdSub2,(2300,1500),interpolation = cv2.INTER_CUBIC)\n",
    "    corrected = (np.divide(np.subtract(resizedImg,meanFull2),stdFull2))\n",
    "\n",
    "    if debugOption == 'on':\n",
    "        rhf.show_on_jupyter(meanFull2,'gray','float')\n",
    "        rhf.show_on_jupyter(stdFull2,'gray','float')\n",
    "        rhf.show_on_jupyter(corrected,'gray','float')\n",
    "\n",
    "\n",
    "    return corrected"
   ]
  },
  {
   "cell_type": "code",
   "execution_count": 8,
   "id": "5b7bdefd",
   "metadata": {},
   "outputs": [
    {
     "ename": "IndexError",
     "evalue": "too many indices for array: array is 2-dimensional, but 3 were indexed",
     "output_type": "error",
     "traceback": [
      "\u001b[1;31m---------------------------------------------------------------------------\u001b[0m",
      "\u001b[1;31mIndexError\u001b[0m                                Traceback (most recent call last)",
      "Cell \u001b[1;32mIn[8], line 3\u001b[0m\n\u001b[0;32m      1\u001b[0m vesselPath4 \u001b[38;5;241m=\u001b[39m \u001b[38;5;124m\"\u001b[39m\u001b[38;5;124m20051019_38557_0100_PP.tif\u001b[39m\u001b[38;5;124m\"\u001b[39m\n\u001b[0;32m      2\u001b[0m vesselImg \u001b[38;5;241m=\u001b[39m io\u001b[38;5;241m.\u001b[39mimread(vesselPath4)\n\u001b[1;32m----> 3\u001b[0m vesselImg \u001b[38;5;241m=\u001b[39m vesselImg[:,:,\u001b[38;5;241m1\u001b[39m]\n\u001b[0;32m      4\u001b[0m resizedVal \u001b[38;5;241m=\u001b[39m (\u001b[38;5;241m1500\u001b[39m,\u001b[38;5;241m2300\u001b[39m)\n\u001b[0;32m      5\u001b[0m blockSize \u001b[38;5;241m=\u001b[39m (\u001b[38;5;241m750\u001b[39m,\u001b[38;5;241m750\u001b[39m)\n",
      "\u001b[1;31mIndexError\u001b[0m: too many indices for array: array is 2-dimensional, but 3 were indexed"
     ]
    }
   ],
   "source": [
    "vesselPath4 = \"20051019_38557_0100_PP.tif\"\n",
    "vesselImg = io.imread(vesselPath4)\n",
    "vesselImg = vesselImg[:,:,1]\n",
    "resizedVal = (1500,2300)\n",
    "blockSize = (750,750)\n",
    "result = luminosity_contrast_normalization(vesselImg,blockSize,resizedVal)"
   ]
  },
  {
   "cell_type": "code",
   "execution_count": null,
   "id": "ae354207",
   "metadata": {},
   "outputs": [],
   "source": []
  }
 ],
 "metadata": {
  "kernelspec": {
   "display_name": "Python 3 (ipykernel)",
   "language": "python",
   "name": "python3"
  },
  "language_info": {
   "codemirror_mode": {
    "name": "ipython",
    "version": 3
   },
   "file_extension": ".py",
   "mimetype": "text/x-python",
   "name": "python",
   "nbconvert_exporter": "python",
   "pygments_lexer": "ipython3",
   "version": "3.11.5"
  }
 },
 "nbformat": 4,
 "nbformat_minor": 5
}
